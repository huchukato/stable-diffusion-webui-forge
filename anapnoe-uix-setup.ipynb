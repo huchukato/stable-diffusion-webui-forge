{
 "cells": [
  {
   "cell_type": "markdown",
   "metadata": {},
   "source": [
    "# Clone Anapnoe Repo from GitHub"
   ]
  },
  {
   "cell_type": "code",
   "execution_count": null,
   "metadata": {},
   "outputs": [],
   "source": [
    "!git clone https://github.com/anapnoe/stable-diffusion-webui-ux-forge.git"
   ]
  },
  {
   "cell_type": "markdown",
   "metadata": {},
   "source": [
    "# Install requirements\n",
    "Don't use webui.sh, it will create another virtual enviroment and install the requirements again, but with an older PyTorch Version"
   ]
  },
  {
   "cell_type": "code",
   "execution_count": null,
   "metadata": {
    "scrolled": true
   },
   "outputs": [],
   "source": [
    "!sudo apt update && sudo apt-get install google-perftools graphviz"
   ]
  },
  {
   "cell_type": "code",
   "execution_count": null,
   "metadata": {},
   "outputs": [],
   "source": [
    "%cd /teamspace/studios/this_studio/stable-diffusion-webui-ux-forge\n",
    "!pip install --upgrade pip\n",
    "!pip install insightface\n",
    "!pip install pickleshare\n",
    "!pip install xformers\n",
    "!pip install -r requirements_versions.txt"
   ]
  },
  {
   "cell_type": "markdown",
   "metadata": {},
   "source": [
    "# Launch Anapnoe UIX\n",
    "You can set [optimization](https://github.com/AUTOMATIC1111/stable-diffusion-webui/wiki/Optimizations) after launch.py, if you use none xformers is the default setting "
   ]
  },
  {
   "cell_type": "code",
   "execution_count": null,
   "metadata": {
    "scrolled": true
   },
   "outputs": [],
   "source": [
    "!python /teamspace/studios/this_studio/stable-diffusion-webui-ux-forge/launch.py "
   ]
  }
 ],
 "metadata": {
  "kernelspec": {
   "display_name": "Python 3",
   "language": "python",
   "name": "python3"
  },
  "language_info": {
   "codemirror_mode": {
    "name": "ipython",
    "version": 3
   },
   "file_extension": ".py",
   "mimetype": "text/x-python",
   "name": "python",
   "nbconvert_exporter": "python",
   "pygments_lexer": "ipython3",
   "version": "3.10.15"
  }
 },
 "nbformat": 4,
 "nbformat_minor": 4
}
